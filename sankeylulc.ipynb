{
  "cells": [
    {
      "cell_type": "markdown",
      "metadata": {
        "id": "view-in-github",
        "colab_type": "text"
      },
      "source": [
        "<a href=\"https://colab.research.google.com/github/Magaldany/sankey-lulc/blob/main/sankeylulc.ipynb\" target=\"_parent\"><img src=\"https://colab.research.google.com/assets/colab-badge.svg\" alt=\"Open In Colab\"/></a>"
      ]
    },
    {
      "cell_type": "code",
      "execution_count": null,
      "metadata": {
        "colab": {
          "base_uri": "https://localhost:8080/"
        },
        "id": "JWY30otbsDlW",
        "outputId": "a815571a-cfe9-4c18-aa24-6b95ec8c88db"
      },
      "outputs": [
        {
          "name": "stdout",
          "output_type": "stream",
          "text": [
            "Collecting Dash\n",
            "  Downloading dash-2.18.2-py3-none-any.whl.metadata (10 kB)\n",
            "Requirement already satisfied: Flask<3.1,>=1.0.4 in /usr/local/lib/python3.10/dist-packages (from Dash) (3.0.3)\n",
            "Collecting Werkzeug<3.1 (from Dash)\n",
            "  Downloading werkzeug-3.0.6-py3-none-any.whl.metadata (3.7 kB)\n",
            "Requirement already satisfied: plotly>=5.0.0 in /usr/local/lib/python3.10/dist-packages (from Dash) (5.24.1)\n",
            "Collecting dash-html-components==2.0.0 (from Dash)\n",
            "  Downloading dash_html_components-2.0.0-py3-none-any.whl.metadata (3.8 kB)\n",
            "Collecting dash-core-components==2.0.0 (from Dash)\n",
            "  Downloading dash_core_components-2.0.0-py3-none-any.whl.metadata (2.9 kB)\n",
            "Collecting dash-table==5.0.0 (from Dash)\n",
            "  Downloading dash_table-5.0.0-py3-none-any.whl.metadata (2.4 kB)\n",
            "Requirement already satisfied: importlib-metadata in /usr/local/lib/python3.10/dist-packages (from Dash) (8.5.0)\n",
            "Requirement already satisfied: typing-extensions>=4.1.1 in /usr/local/lib/python3.10/dist-packages (from Dash) (4.12.2)\n",
            "Requirement already satisfied: requests in /usr/local/lib/python3.10/dist-packages (from Dash) (2.32.3)\n",
            "Collecting retrying (from Dash)\n",
            "  Downloading retrying-1.3.4-py3-none-any.whl.metadata (6.9 kB)\n",
            "Requirement already satisfied: nest-asyncio in /usr/local/lib/python3.10/dist-packages (from Dash) (1.6.0)\n",
            "Requirement already satisfied: setuptools in /usr/local/lib/python3.10/dist-packages (from Dash) (75.1.0)\n",
            "Requirement already satisfied: Jinja2>=3.1.2 in /usr/local/lib/python3.10/dist-packages (from Flask<3.1,>=1.0.4->Dash) (3.1.4)\n",
            "Requirement already satisfied: itsdangerous>=2.1.2 in /usr/local/lib/python3.10/dist-packages (from Flask<3.1,>=1.0.4->Dash) (2.2.0)\n",
            "Requirement already satisfied: click>=8.1.3 in /usr/local/lib/python3.10/dist-packages (from Flask<3.1,>=1.0.4->Dash) (8.1.7)\n",
            "Requirement already satisfied: blinker>=1.6.2 in /usr/local/lib/python3.10/dist-packages (from Flask<3.1,>=1.0.4->Dash) (1.9.0)\n",
            "Requirement already satisfied: tenacity>=6.2.0 in /usr/local/lib/python3.10/dist-packages (from plotly>=5.0.0->Dash) (9.0.0)\n",
            "Requirement already satisfied: packaging in /usr/local/lib/python3.10/dist-packages (from plotly>=5.0.0->Dash) (24.2)\n",
            "Requirement already satisfied: MarkupSafe>=2.1.1 in /usr/local/lib/python3.10/dist-packages (from Werkzeug<3.1->Dash) (3.0.2)\n",
            "Requirement already satisfied: zipp>=3.20 in /usr/local/lib/python3.10/dist-packages (from importlib-metadata->Dash) (3.20.2)\n",
            "Requirement already satisfied: charset-normalizer<4,>=2 in /usr/local/lib/python3.10/dist-packages (from requests->Dash) (3.4.0)\n",
            "Requirement already satisfied: idna<4,>=2.5 in /usr/local/lib/python3.10/dist-packages (from requests->Dash) (3.10)\n",
            "Requirement already satisfied: urllib3<3,>=1.21.1 in /usr/local/lib/python3.10/dist-packages (from requests->Dash) (2.2.3)\n",
            "Requirement already satisfied: certifi>=2017.4.17 in /usr/local/lib/python3.10/dist-packages (from requests->Dash) (2024.8.30)\n",
            "Requirement already satisfied: six>=1.7.0 in /usr/local/lib/python3.10/dist-packages (from retrying->Dash) (1.16.0)\n",
            "Downloading dash-2.18.2-py3-none-any.whl (7.8 MB)\n",
            "\u001b[2K   \u001b[90m━━━━━━━━━━━━━━━━━━━━━━━━━━━━━━━━━━━━━━━━\u001b[0m \u001b[32m7.8/7.8 MB\u001b[0m \u001b[31m51.0 MB/s\u001b[0m eta \u001b[36m0:00:00\u001b[0m\n",
            "\u001b[?25hDownloading dash_core_components-2.0.0-py3-none-any.whl (3.8 kB)\n",
            "Downloading dash_html_components-2.0.0-py3-none-any.whl (4.1 kB)\n",
            "Downloading dash_table-5.0.0-py3-none-any.whl (3.9 kB)\n",
            "Downloading werkzeug-3.0.6-py3-none-any.whl (227 kB)\n",
            "\u001b[2K   \u001b[90m━━━━━━━━━━━━━━━━━━━━━━━━━━━━━━━━━━━━━━━━\u001b[0m \u001b[32m228.0/228.0 kB\u001b[0m \u001b[31m13.5 MB/s\u001b[0m eta \u001b[36m0:00:00\u001b[0m\n",
            "\u001b[?25hDownloading retrying-1.3.4-py3-none-any.whl (11 kB)\n",
            "Installing collected packages: dash-table, dash-html-components, dash-core-components, Werkzeug, retrying, Dash\n",
            "  Attempting uninstall: Werkzeug\n",
            "    Found existing installation: Werkzeug 3.1.3\n",
            "    Uninstalling Werkzeug-3.1.3:\n",
            "      Successfully uninstalled Werkzeug-3.1.3\n",
            "Successfully installed Dash-2.18.2 Werkzeug-3.0.6 dash-core-components-2.0.0 dash-html-components-2.0.0 dash-table-5.0.0 retrying-1.3.4\n",
            "Requirement already satisfied: plotly in /usr/local/lib/python3.10/dist-packages (5.24.1)\n",
            "Requirement already satisfied: tenacity>=6.2.0 in /usr/local/lib/python3.10/dist-packages (from plotly) (9.0.0)\n",
            "Requirement already satisfied: packaging in /usr/local/lib/python3.10/dist-packages (from plotly) (24.2)\n",
            "Requirement already satisfied: pandas in /usr/local/lib/python3.10/dist-packages (2.2.2)\n",
            "Requirement already satisfied: numpy>=1.22.4 in /usr/local/lib/python3.10/dist-packages (from pandas) (1.26.4)\n",
            "Requirement already satisfied: python-dateutil>=2.8.2 in /usr/local/lib/python3.10/dist-packages (from pandas) (2.8.2)\n",
            "Requirement already satisfied: pytz>=2020.1 in /usr/local/lib/python3.10/dist-packages (from pandas) (2024.2)\n",
            "Requirement already satisfied: tzdata>=2022.7 in /usr/local/lib/python3.10/dist-packages (from pandas) (2024.2)\n",
            "Requirement already satisfied: six>=1.5 in /usr/local/lib/python3.10/dist-packages (from python-dateutil>=2.8.2->pandas) (1.16.0)\n"
          ]
        }
      ],
      "source": [
        "!pip install Dash\n",
        "!pip install plotly\n",
        "!pip install pandas"
      ]
    },
    {
      "cell_type": "code",
      "execution_count": 12,
      "metadata": {
        "colab": {
          "base_uri": "https://localhost:8080/",
          "height": 672
        },
        "id": "jymVPqTtrWLY",
        "outputId": "355b889e-eeb0-43dc-b363-2eb5112778c2"
      },
      "outputs": [
        {
          "output_type": "display_data",
          "data": {
            "text/plain": [
              "<IPython.core.display.Javascript object>"
            ],
            "application/javascript": [
              "(async (port, path, width, height, cache, element) => {\n",
              "    if (!google.colab.kernel.accessAllowed && !cache) {\n",
              "      return;\n",
              "    }\n",
              "    element.appendChild(document.createTextNode(''));\n",
              "    const url = await google.colab.kernel.proxyPort(port, {cache});\n",
              "    const iframe = document.createElement('iframe');\n",
              "    iframe.src = new URL(path, url).toString();\n",
              "    iframe.height = height;\n",
              "    iframe.width = width;\n",
              "    iframe.style.border = 0;\n",
              "    iframe.allow = [\n",
              "        'accelerometer',\n",
              "        'autoplay',\n",
              "        'camera',\n",
              "        'clipboard-read',\n",
              "        'clipboard-write',\n",
              "        'gyroscope',\n",
              "        'magnetometer',\n",
              "        'microphone',\n",
              "        'serial',\n",
              "        'usb',\n",
              "        'xr-spatial-tracking',\n",
              "    ].join('; ');\n",
              "    element.appendChild(iframe);\n",
              "  })(8050, \"/\", \"100%\", 650, false, window.element)"
            ]
          },
          "metadata": {}
        }
      ],
      "source": [
        "import dash\n",
        "from dash import dcc, html\n",
        "import plotly.graph_objects as go\n",
        "import pandas as pd\n",
        "\n",
        "# Função para processar dados de um arquivo TSV e preparar o gráfico\n",
        "def process_data(file_path):\n",
        "    data = pd.read_csv(file_path, delimiter='\\t')  # Lê o arquivo TSV\n",
        "\n",
        "    # Verifica se a coluna 'Weight' existe antes de prosseguir\n",
        "    if 'Weight' in data.columns:\n",
        "        data['Weight'] = data['Weight'].str.replace(',', '.').astype(float).astype(int)\n",
        "        data = data[data['Weight'] != 0]  # Filtra linhas onde o peso é zero\n",
        "    else:\n",
        "        print(f\"Warning: 'Weight' column not found in {file_path}\")\n",
        "        return [], [], []\n",
        "\n",
        "    return data['from'].tolist(), data['to'].tolist(), data['Weight'].tolist()\n",
        "\n",
        "def create_sankey_chart(file_path, class_color_map, title=\"Sankey Diagram\"):\n",
        "    from_nodes, to_nodes, weights = process_data(file_path)\n",
        "    unique_nodes = list(set(from_nodes + to_nodes))\n",
        "\n",
        "    # Atribui cores aos nós\n",
        "    node_colors = [class_color_map.get(node, \"#cfd1d1\") for node in unique_nodes]  # Cor padrão cinza\n",
        "\n",
        "    fig = go.Figure(go.Sankey(\n",
        "        node=dict(\n",
        "            pad=15,\n",
        "            thickness=20,\n",
        "            line=dict(color=\"black\", width=0.5),\n",
        "            label=unique_nodes,\n",
        "            color=node_colors\n",
        "        ),\n",
        "        link=dict(\n",
        "            source=[unique_nodes.index(src) for src in from_nodes],\n",
        "            target=[unique_nodes.index(tgt) for tgt in to_nodes],\n",
        "            value=weights,\n",
        "            color=[\"#cfd1d1\"] * len(weights)  # Todas as ligações em cinza\n",
        "        )\n",
        "    ))\n",
        "    fig.update_layout(title_text=title, font_size=12, margin=dict(l=100, r=100, t=40, b=100))  # Ajustando margens\n",
        "    return fig\n",
        "\n",
        "# Inicializa o aplicativo Dash\n",
        "app = dash.Dash(__name__)\n",
        "\n",
        "# Dicionário de cores por classe\n",
        "class_color_map = {\n",
        "    \"Floresta Natural|1985\": \"#118504\",  # Verde\n",
        "    \"Pastagem|2000\": \"#ffff69\",  # Amarelo\n",
        "    \"Pastagem|2015\": \"#ffff69\",  # Amarelo\n",
        "    \"Agricultura|1985\": \"#ffc0cb\",  # Rosa\n",
        "    \"Agricultura|2000\": \"#ffc0cb\",  # Rosa\n",
        "    \"Agricultura|2015\": \"#ffc0cb\",  # Rosa\n",
        "    \"Área Urbana|1985\": \"#FF0000\",  # Vermelho\n",
        "    \"Área Urbana|2000\": \"#FF0000\",  # Vermelho\n",
        "    \"Área Urbana|2015\": \"#FF0000\",  # Vermelho\n",
        "\n",
        "\n",
        "    # Adicione mais classes e cores conforme necessário\n",
        "}\n",
        "\n",
        "# Configura o layout do aplicativo para exibir apenas o gráfico do Diagrama\n",
        "app.layout = html.Div(id='box', style={\n",
        "    'position': 'absolute',\n",
        "    'marginTop': '-10px',\n",
        "    'marginBottom': '50px',\n",
        "    'font-family': 'Arial, Helvetica, sans-serif',\n",
        "    'textAlign': 'center',\n",
        "    'width': '100%',\n",
        "    'height': 'auto',\n",
        "    'overflow': 'auto'\n",
        "}, children=[\n",
        "    html.H1('Mudança de Uso e Cobertura da Terra', style={'color': 'black'}), # Substituir o título conforme necessário\n",
        "    dcc.Graph(\n",
        "        id='teorema1',\n",
        "        figure=create_sankey_chart(\n",
        "            \"/content/teste1.tsv\", # Substituir o caminho da pasta de acordo com o arquivo a ser introduzido\n",
        "            class_color_map,\n",
        "            title=\"Substituição da Floresta Natural\" # Substituir o título conforme necessário\n",
        "        ),\n",
        "        style={'position': 'relative', 'width': '100%', 'height': '600px'}\n",
        "    )\n",
        "])\n",
        "\n",
        "if __name__ == '__main__':\n",
        "    app.run_server(debug=True)\n"
      ]
    }
  ],
  "metadata": {
    "colab": {
      "provenance": [],
      "authorship_tag": "ABX9TyMJMEFTb5+wGWpxHZ1Qf/Gl",
      "include_colab_link": true
    },
    "kernelspec": {
      "display_name": "Python 3",
      "name": "python3"
    },
    "language_info": {
      "name": "python"
    }
  },
  "nbformat": 4,
  "nbformat_minor": 0
}