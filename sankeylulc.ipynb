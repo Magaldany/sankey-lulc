{
  "nbformat": 4,
  "nbformat_minor": 0,
  "metadata": {
    "colab": {
      "provenance": [],
      "authorship_tag": "ABX9TyO+mp1Nj3Mu/TYYSQK1R1KD",
      "include_colab_link": true
    },
    "kernelspec": {
      "name": "python3",
      "display_name": "Python 3"
    },
    "language_info": {
      "name": "python"
    }
  },
  "cells": [
    {
      "cell_type": "markdown",
      "metadata": {
        "id": "view-in-github",
        "colab_type": "text"
      },
      "source": [
        "<a href=\"https://colab.research.google.com/github/Magaldany/sankey-lulc/blob/main/sankeylulc.ipynb\" target=\"_parent\"><img src=\"https://colab.research.google.com/assets/colab-badge.svg\" alt=\"Open In Colab\"/></a>"
      ]
    },
    {
      "cell_type": "code",
      "source": [
        "!pip install Dash\n",
        "!pip install plotly\n",
        "!pip install pandas"
      ],
      "metadata": {
        "colab": {
          "base_uri": "https://localhost:8080/"
        },
        "id": "JWY30otbsDlW",
        "outputId": "fff63ada-9151-4fb9-ccde-7d99503e0992"
      },
      "execution_count": 15,
      "outputs": [
        {
          "output_type": "stream",
          "name": "stdout",
          "text": [
            "Requirement already satisfied: Dash in /usr/local/lib/python3.10/dist-packages (2.18.2)\n",
            "Requirement already satisfied: Flask<3.1,>=1.0.4 in /usr/local/lib/python3.10/dist-packages (from Dash) (2.2.5)\n",
            "Requirement already satisfied: Werkzeug<3.1 in /usr/local/lib/python3.10/dist-packages (from Dash) (3.0.6)\n",
            "Requirement already satisfied: plotly>=5.0.0 in /usr/local/lib/python3.10/dist-packages (from Dash) (5.24.1)\n",
            "Requirement already satisfied: dash-html-components==2.0.0 in /usr/local/lib/python3.10/dist-packages (from Dash) (2.0.0)\n",
            "Requirement already satisfied: dash-core-components==2.0.0 in /usr/local/lib/python3.10/dist-packages (from Dash) (2.0.0)\n",
            "Requirement already satisfied: dash-table==5.0.0 in /usr/local/lib/python3.10/dist-packages (from Dash) (5.0.0)\n",
            "Requirement already satisfied: importlib-metadata in /usr/local/lib/python3.10/dist-packages (from Dash) (8.5.0)\n",
            "Requirement already satisfied: typing-extensions>=4.1.1 in /usr/local/lib/python3.10/dist-packages (from Dash) (4.12.2)\n",
            "Requirement already satisfied: requests in /usr/local/lib/python3.10/dist-packages (from Dash) (2.32.3)\n",
            "Requirement already satisfied: retrying in /usr/local/lib/python3.10/dist-packages (from Dash) (1.3.4)\n",
            "Requirement already satisfied: nest-asyncio in /usr/local/lib/python3.10/dist-packages (from Dash) (1.6.0)\n",
            "Requirement already satisfied: setuptools in /usr/local/lib/python3.10/dist-packages (from Dash) (75.1.0)\n",
            "Requirement already satisfied: Jinja2>=3.0 in /usr/local/lib/python3.10/dist-packages (from Flask<3.1,>=1.0.4->Dash) (3.1.4)\n",
            "Requirement already satisfied: itsdangerous>=2.0 in /usr/local/lib/python3.10/dist-packages (from Flask<3.1,>=1.0.4->Dash) (2.2.0)\n",
            "Requirement already satisfied: click>=8.0 in /usr/local/lib/python3.10/dist-packages (from Flask<3.1,>=1.0.4->Dash) (8.1.7)\n",
            "Requirement already satisfied: tenacity>=6.2.0 in /usr/local/lib/python3.10/dist-packages (from plotly>=5.0.0->Dash) (9.0.0)\n",
            "Requirement already satisfied: packaging in /usr/local/lib/python3.10/dist-packages (from plotly>=5.0.0->Dash) (24.1)\n",
            "Requirement already satisfied: MarkupSafe>=2.1.1 in /usr/local/lib/python3.10/dist-packages (from Werkzeug<3.1->Dash) (3.0.2)\n",
            "Requirement already satisfied: zipp>=3.20 in /usr/local/lib/python3.10/dist-packages (from importlib-metadata->Dash) (3.20.2)\n",
            "Requirement already satisfied: charset-normalizer<4,>=2 in /usr/local/lib/python3.10/dist-packages (from requests->Dash) (3.4.0)\n",
            "Requirement already satisfied: idna<4,>=2.5 in /usr/local/lib/python3.10/dist-packages (from requests->Dash) (3.10)\n",
            "Requirement already satisfied: urllib3<3,>=1.21.1 in /usr/local/lib/python3.10/dist-packages (from requests->Dash) (2.2.3)\n",
            "Requirement already satisfied: certifi>=2017.4.17 in /usr/local/lib/python3.10/dist-packages (from requests->Dash) (2024.8.30)\n",
            "Requirement already satisfied: six>=1.7.0 in /usr/local/lib/python3.10/dist-packages (from retrying->Dash) (1.16.0)\n",
            "Requirement already satisfied: plotly in /usr/local/lib/python3.10/dist-packages (5.24.1)\n",
            "Requirement already satisfied: tenacity>=6.2.0 in /usr/local/lib/python3.10/dist-packages (from plotly) (9.0.0)\n",
            "Requirement already satisfied: packaging in /usr/local/lib/python3.10/dist-packages (from plotly) (24.1)\n",
            "Requirement already satisfied: pandas in /usr/local/lib/python3.10/dist-packages (2.2.2)\n",
            "Requirement already satisfied: numpy>=1.22.4 in /usr/local/lib/python3.10/dist-packages (from pandas) (1.26.4)\n",
            "Requirement already satisfied: python-dateutil>=2.8.2 in /usr/local/lib/python3.10/dist-packages (from pandas) (2.8.2)\n",
            "Requirement already satisfied: pytz>=2020.1 in /usr/local/lib/python3.10/dist-packages (from pandas) (2024.2)\n",
            "Requirement already satisfied: tzdata>=2022.7 in /usr/local/lib/python3.10/dist-packages (from pandas) (2024.2)\n",
            "Requirement already satisfied: six>=1.5 in /usr/local/lib/python3.10/dist-packages (from python-dateutil>=2.8.2->pandas) (1.16.0)\n"
          ]
        }
      ]
    },
    {
      "cell_type": "code",
      "execution_count": 17,
      "metadata": {
        "colab": {
          "base_uri": "https://localhost:8080/",
          "height": 671
        },
        "id": "jymVPqTtrWLY",
        "outputId": "21483a6b-e623-4d8b-dad7-81490be5c05c"
      },
      "outputs": [
        {
          "output_type": "display_data",
          "data": {
            "text/plain": [
              "<IPython.core.display.Javascript object>"
            ],
            "application/javascript": [
              "(async (port, path, width, height, cache, element) => {\n",
              "    if (!google.colab.kernel.accessAllowed && !cache) {\n",
              "      return;\n",
              "    }\n",
              "    element.appendChild(document.createTextNode(''));\n",
              "    const url = await google.colab.kernel.proxyPort(port, {cache});\n",
              "    const iframe = document.createElement('iframe');\n",
              "    iframe.src = new URL(path, url).toString();\n",
              "    iframe.height = height;\n",
              "    iframe.width = width;\n",
              "    iframe.style.border = 0;\n",
              "    iframe.allow = [\n",
              "        'accelerometer',\n",
              "        'autoplay',\n",
              "        'camera',\n",
              "        'clipboard-read',\n",
              "        'clipboard-write',\n",
              "        'gyroscope',\n",
              "        'magnetometer',\n",
              "        'microphone',\n",
              "        'serial',\n",
              "        'usb',\n",
              "        'xr-spatial-tracking',\n",
              "    ].join('; ');\n",
              "    element.appendChild(iframe);\n",
              "  })(8050, \"/\", \"100%\", 650, false, window.element)"
            ]
          },
          "metadata": {}
        }
      ],
      "source": [
        "import dash\n",
        "from dash import dcc, html\n",
        "import plotly.graph_objects as go\n",
        "import pandas as pd\n",
        "\n",
        "# Função para processar dados de um arquivo TSV e preparar o gráfico\n",
        "def process_data(file_path):\n",
        "    data = pd.read_csv(file_path, delimiter='\\t')  # Lê o arquivo TSV\n",
        "\n",
        "    # Verifica se a coluna 'Weight' existe antes de prosseguir\n",
        "    if 'Weight' in data.columns:\n",
        "        data['Weight'] = data['Weight'].str.replace(',', '.').astype(float).astype(int)\n",
        "        data = data[data['Weight'] != 0]  # Filtra linhas onde o peso é zero\n",
        "    else:\n",
        "        print(f\"Warning: 'Weight' column not found in {file_path}\")\n",
        "        return [], [], []\n",
        "\n",
        "    return data['from'].tolist(), data['to'].tolist(), data['Weight'].tolist()\n",
        "\n",
        "def create_sankey_chart(file_path, class_color_map, title=\"Sankey Diagram\"):\n",
        "    from_nodes, to_nodes, weights = process_data(file_path)\n",
        "    unique_nodes = list(set(from_nodes + to_nodes))\n",
        "\n",
        "    # Atribui cores aos nós\n",
        "    node_colors = [class_color_map.get(node, \"#cfd1d1\") for node in unique_nodes]  # Cor padrão cinza\n",
        "\n",
        "    fig = go.Figure(go.Sankey(\n",
        "        node=dict(\n",
        "            pad=15,\n",
        "            thickness=20,\n",
        "            line=dict(color=\"black\", width=0.5),\n",
        "            label=unique_nodes,\n",
        "            color=node_colors\n",
        "        ),\n",
        "        link=dict(\n",
        "            source=[unique_nodes.index(src) for src in from_nodes],\n",
        "            target=[unique_nodes.index(tgt) for tgt in to_nodes],\n",
        "            value=weights,\n",
        "            color=[\"#cfd1d1\"] * len(weights)  # Todas as ligações em cinza\n",
        "        )\n",
        "    ))\n",
        "    fig.update_layout(title_text=title, font_size=10, margin=dict(l=100, r=100, t=40, b=100))  # Ajustando margens\n",
        "    return fig\n",
        "\n",
        "# Inicializa o aplicativo Dash\n",
        "app = dash.Dash(__name__)\n",
        "\n",
        "# Dicionário de cores por classe\n",
        "class_color_map = {\n",
        "    \"Floresta Natural|1985\": \"#118504\",  # Verde\n",
        "    \"Floresta Natural|1989\": \"#118504\",  # Verde\n",
        "    \"Floresta Natural|1992\": \"#118504\",  # Verde\n",
        "    \"Floresta Natural|1998\": \"#118504\",  # Verde\n",
        "    \"Floresta Natural|2003\": \"#118504\",  # Verde\n",
        "    \"Floresta Natural|2010\": \"#118504\",  # Verde\n",
        "    \"Floresta Natural|2014\": \"#118504\",  # Verde\n",
        "    \"Floresta Natural|2019\": \"#118504\",  # Verde\n",
        "    \"Pastagem|1985\": \"#ffff69\",  # Amarelo\n",
        "    \"Pastagem|1989\": \"#ffff69\",  # Amarelo\n",
        "    \"Pastagem|1992\": \"#ffff69\",  # Amarelo\n",
        "    \"Pastagem|1998\": \"#ffff69\",  # Amarelo\n",
        "    \"Pastagem|2003\": \"#ffff69\",  # Amarelo\n",
        "    \"Pastagem|2010\": \"#ffff69\",  # Amarelo\n",
        "    \"Pastagem|2014\": \"#ffff69\",  # Amarelo\n",
        "    \"Pastagem|2019\": \"#ffff69\",  # Amarelo\n",
        "    \"Agricultura|1985\": \"#ffc0cb\",  # Rosa\n",
        "    \"Agricultura|1989\": \"#ffc0cb\",  # Rosa\n",
        "    \"Agricultura|1992\": \"#ffc0cb\",  # Rosa\n",
        "    \"Agricultura|1998\": \"#ffc0cb\",  # Rosa\n",
        "    \"Agricultura|2003\": \"#ffc0cb\",  # Rosa\n",
        "    \"Agricultura|2010\": \"#ffc0cb\",  # Rosa\n",
        "    \"Agricultura|2014\": \"#ffc0cb\",  # Rosa\n",
        "    \"Agricultura|2019\": \"#ffc0cb\",  # Rosa\n",
        "    \"Corpos Hídricos|1985\": \"#4416ff\",  # Azul\n",
        "    \"Corpos Hídricos|1989\": \"#4416ff\",  # Azul\n",
        "    \"Corpos Hídricos|1992\": \"#4416ff\",  # Azul\n",
        "    \"Corpos Hídricos|1998\": \"#4416ff\",  # Azul\n",
        "    \"Corpos Hídricos|2003\": \"#4416ff\",  # Azul\n",
        "    \"Corpos Hídricos|2010\": \"#4416ff\",  # Azul\n",
        "    \"Corpos Hídricos|2014\": \"#4416ff\",  # Azul\n",
        "    \"Corpos Hídricos|2019\": \"#4416ff\",  # Azul\n",
        "\n",
        "    # Adicione mais classes e cores conforme necessário\n",
        "}\n",
        "\n",
        "# Configura o layout do aplicativo para exibir apenas o gráfico do Diagrama\n",
        "app.layout = html.Div(id='box', style={\n",
        "    'position': 'absolute',\n",
        "    'marginTop': '-10px',\n",
        "    'marginBottom': '50px',\n",
        "    'font-family': 'Arial, Helvetica, sans-serif',\n",
        "    'textAlign': 'center',\n",
        "    'width': '100%',\n",
        "    'height': 'auto',\n",
        "    'overflow': 'auto'\n",
        "}, children=[\n",
        "    html.H1('Substituição da Floresta Natural - Amazônia Legal', style={'color': 'black'}), # Substituir o título conforme necessário\n",
        "    dcc.Graph(\n",
        "        id='teorema1',\n",
        "        figure=create_sankey_chart(\n",
        "            \"/content/T1.tsv\", # Substituir o caminho da pasta de acordo com o arquivo a ser introduzido\n",
        "            class_color_map,\n",
        "            title=\"Teorema 1\"\n",
        "        ),\n",
        "        style={'position': 'relative', 'width': '100%', 'height': '600px'}\n",
        "    )\n",
        "])\n",
        "\n",
        "if __name__ == '__main__':\n",
        "    app.run_server(debug=True)\n"
      ]
    }
  ]
}